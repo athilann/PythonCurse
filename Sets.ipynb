{
 "cells": [
  {
   "cell_type": "markdown",
   "id": "263dd53a",
   "metadata": {},
   "source": [
    "Sets - sao como listas e dicionarios, porem os elementos dentro precisam ser unicos "
   ]
  },
  {
   "cell_type": "code",
   "execution_count": 2,
   "id": "647dfcad",
   "metadata": {},
   "outputs": [
    {
     "data": {
      "text/plain": [
       "[1, 2, 3, 1]"
      ]
     },
     "execution_count": 2,
     "metadata": {},
     "output_type": "execute_result"
    }
   ],
   "source": [
    "my_list = [1,2,3,1]\n",
    "my_list"
   ]
  },
  {
   "cell_type": "code",
   "execution_count": 3,
   "id": "7a37002e",
   "metadata": {},
   "outputs": [
    {
     "data": {
      "text/plain": [
       "{1, 2, 3}"
      ]
     },
     "execution_count": 3,
     "metadata": {},
     "output_type": "execute_result"
    }
   ],
   "source": [
    "#convertendo a my_list para um set\n",
    "\n",
    "my_set = set(my_list)\n",
    "my_set"
   ]
  },
  {
   "cell_type": "code",
   "execution_count": 4,
   "id": "b660606e",
   "metadata": {},
   "outputs": [
    {
     "data": {
      "text/plain": [
       "{1, 2, 3}"
      ]
     },
     "execution_count": 4,
     "metadata": {},
     "output_type": "execute_result"
    }
   ],
   "source": [
    "#criando um novo set\n",
    "\n",
    "my_set_2 ={1,2,3,1}\n",
    "my_set_2"
   ]
  },
  {
   "cell_type": "code",
   "execution_count": 5,
   "id": "5d87cbb3",
   "metadata": {},
   "outputs": [
    {
     "data": {
      "text/plain": [
       "set"
      ]
     },
     "execution_count": 5,
     "metadata": {},
     "output_type": "execute_result"
    }
   ],
   "source": [
    "type(my_set_2)"
   ]
  },
  {
   "cell_type": "code",
   "execution_count": 6,
   "id": "9b64056b",
   "metadata": {},
   "outputs": [
    {
     "data": {
      "text/plain": [
       "{'a', 'b'}"
      ]
     },
     "execution_count": 6,
     "metadata": {},
     "output_type": "execute_result"
    }
   ],
   "source": [
    "#set funcionam para string tambem\n",
    "\n",
    "my_set_3 ={\"a\",\"b\",\"a\"}\n",
    "my_set_3"
   ]
  },
  {
   "cell_type": "code",
   "execution_count": 8,
   "id": "9c23703f",
   "metadata": {},
   "outputs": [
    {
     "data": {
      "text/plain": [
       "{}"
      ]
     },
     "execution_count": 8,
     "metadata": {},
     "output_type": "execute_result"
    }
   ],
   "source": [
    "#criando um set vazio\n",
    "\n",
    "my_set_4 = {}\n",
    "my_set_4"
   ]
  },
  {
   "cell_type": "code",
   "execution_count": 9,
   "id": "4ed0c2a6",
   "metadata": {},
   "outputs": [
    {
     "data": {
      "text/plain": [
       "dict"
      ]
     },
     "execution_count": 9,
     "metadata": {},
     "output_type": "execute_result"
    }
   ],
   "source": [
    "#criando um set vazio ele vai ser do tipo dictionary\n",
    "\n",
    "type(my_set_4)"
   ]
  },
  {
   "cell_type": "code",
   "execution_count": 11,
   "id": "2c9d09ae",
   "metadata": {},
   "outputs": [
    {
     "data": {
      "text/plain": [
       "set()"
      ]
     },
     "execution_count": 11,
     "metadata": {},
     "output_type": "execute_result"
    }
   ],
   "source": [
    "#para criar um set vazio eh necessario chamar a funcao\n",
    "\n",
    "my_set_5 = set()\n",
    "my_set_5"
   ]
  },
  {
   "cell_type": "code",
   "execution_count": 13,
   "id": "6f7f9879",
   "metadata": {},
   "outputs": [
    {
     "data": {
      "text/plain": [
       "set"
      ]
     },
     "execution_count": 13,
     "metadata": {},
     "output_type": "execute_result"
    }
   ],
   "source": [
    "type(my_set_5)"
   ]
  },
  {
   "cell_type": "code",
   "execution_count": 12,
   "id": "91c43729",
   "metadata": {},
   "outputs": [
    {
     "data": {
      "text/plain": [
       "{1}"
      ]
     },
     "execution_count": 12,
     "metadata": {},
     "output_type": "execute_result"
    }
   ],
   "source": [
    "my_set_5.add(1)\n",
    "my_set_5"
   ]
  },
  {
   "cell_type": "code",
   "execution_count": 14,
   "id": "7afbfb3b",
   "metadata": {},
   "outputs": [
    {
     "data": {
      "text/plain": [
       "{1, 2}"
      ]
     },
     "execution_count": 14,
     "metadata": {},
     "output_type": "execute_result"
    }
   ],
   "source": [
    "my_set_5.add(2)\n",
    "my_set_5"
   ]
  },
  {
   "cell_type": "code",
   "execution_count": 15,
   "id": "11f5d2c0",
   "metadata": {},
   "outputs": [
    {
     "data": {
      "text/plain": [
       "{1, 2}"
      ]
     },
     "execution_count": 15,
     "metadata": {},
     "output_type": "execute_result"
    }
   ],
   "source": [
    "my_set_5.add(1)\n",
    "my_set_5"
   ]
  },
  {
   "cell_type": "code",
   "execution_count": null,
   "id": "5fef741a",
   "metadata": {},
   "outputs": [],
   "source": []
  }
 ],
 "metadata": {
  "kernelspec": {
   "display_name": "Python 3 (ipykernel)",
   "language": "python",
   "name": "python3"
  },
  "language_info": {
   "codemirror_mode": {
    "name": "ipython",
    "version": 3
   },
   "file_extension": ".py",
   "mimetype": "text/x-python",
   "name": "python",
   "nbconvert_exporter": "python",
   "pygments_lexer": "ipython3",
   "version": "3.9.7"
  }
 },
 "nbformat": 4,
 "nbformat_minor": 5
}
