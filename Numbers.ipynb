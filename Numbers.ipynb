{
 "cells": [
  {
   "cell_type": "code",
   "execution_count": 15,
   "id": "7d03fe72",
   "metadata": {},
   "outputs": [
    {
     "data": {
      "text/plain": [
       "11"
      ]
     },
     "execution_count": 15,
     "metadata": {},
     "output_type": "execute_result"
    }
   ],
   "source": [
    "# Adicao\n",
    "\n",
    "5+6"
   ]
  },
  {
   "cell_type": "code",
   "execution_count": 4,
   "id": "4c5ebc5f",
   "metadata": {},
   "outputs": [
    {
     "data": {
      "text/plain": [
       "1994"
      ]
     },
     "execution_count": 4,
     "metadata": {},
     "output_type": "execute_result"
    }
   ],
   "source": [
    "# Adicao\n",
    "\n",
    "1500 + 494"
   ]
  },
  {
   "cell_type": "code",
   "execution_count": 5,
   "id": "76933f2b",
   "metadata": {},
   "outputs": [
    {
     "data": {
      "text/plain": [
       "128.57142857142858"
      ]
     },
     "execution_count": 5,
     "metadata": {},
     "output_type": "execute_result"
    }
   ],
   "source": [
    "# Divisao\n",
    "\n",
    "900/7"
   ]
  },
  {
   "cell_type": "code",
   "execution_count": 6,
   "id": "c13b02f6",
   "metadata": {},
   "outputs": [
    {
     "data": {
      "text/plain": [
       "300"
      ]
     },
     "execution_count": 6,
     "metadata": {},
     "output_type": "execute_result"
    }
   ],
   "source": [
    "# Subtracao\n",
    "\n",
    "500-200"
   ]
  },
  {
   "cell_type": "code",
   "execution_count": 7,
   "id": "eba66f22",
   "metadata": {},
   "outputs": [
    {
     "data": {
      "text/plain": [
       "120"
      ]
     },
     "execution_count": 7,
     "metadata": {},
     "output_type": "execute_result"
    }
   ],
   "source": [
    "# Multiplicacao\n",
    "\n",
    "30*4"
   ]
  },
  {
   "cell_type": "code",
   "execution_count": 8,
   "id": "894a21e4",
   "metadata": {},
   "outputs": [
    {
     "data": {
      "text/plain": [
       "8"
      ]
     },
     "execution_count": 8,
     "metadata": {},
     "output_type": "execute_result"
    }
   ],
   "source": [
    "# Multiplicacao ou Potencia de 2 na 3\n",
    "\n",
    "2*2*2"
   ]
  },
  {
   "cell_type": "code",
   "execution_count": 9,
   "id": "d5518a30",
   "metadata": {},
   "outputs": [
    {
     "data": {
      "text/plain": [
       "8"
      ]
     },
     "execution_count": 9,
     "metadata": {},
     "output_type": "execute_result"
    }
   ],
   "source": [
    "# Potencia de 2 na 3\n",
    "\n",
    "2 ** 3"
   ]
  },
  {
   "cell_type": "code",
   "execution_count": 10,
   "id": "4a29a386",
   "metadata": {},
   "outputs": [
    {
     "data": {
      "text/plain": [
       "512"
      ]
     },
     "execution_count": 10,
     "metadata": {},
     "output_type": "execute_result"
    }
   ],
   "source": [
    "# Potencia de 2 na 9\n",
    "\n",
    "2**9"
   ]
  },
  {
   "cell_type": "code",
   "execution_count": 11,
   "id": "d22b30a6",
   "metadata": {},
   "outputs": [
    {
     "data": {
      "text/plain": [
       "0"
      ]
     },
     "execution_count": 11,
     "metadata": {},
     "output_type": "execute_result"
    }
   ],
   "source": [
    "# Resto de divisao\n",
    "\n",
    "10 % 2"
   ]
  },
  {
   "cell_type": "code",
   "execution_count": 12,
   "id": "5ab952cb",
   "metadata": {},
   "outputs": [
    {
     "data": {
      "text/plain": [
       "1"
      ]
     },
     "execution_count": 12,
     "metadata": {},
     "output_type": "execute_result"
    }
   ],
   "source": [
    "# Potencia de 2 na 9\n",
    "\n",
    "11%2"
   ]
  },
  {
   "cell_type": "code",
   "execution_count": 13,
   "id": "14c11116",
   "metadata": {},
   "outputs": [
    {
     "data": {
      "text/plain": [
       "2"
      ]
     },
     "execution_count": 13,
     "metadata": {},
     "output_type": "execute_result"
    }
   ],
   "source": [
    "# Potencia de 2 na 9\n",
    "\n",
    "11%3"
   ]
  },
  {
   "cell_type": "markdown",
   "id": "d0417ee8",
   "metadata": {},
   "source": [
    "Integer - Integer sao numeros inteiros, eles nao possuem sua parte decimal"
   ]
  },
  {
   "cell_type": "code",
   "execution_count": 16,
   "id": "dd3ad87c",
   "metadata": {},
   "outputs": [
    {
     "data": {
      "text/plain": [
       "6"
      ]
     },
     "execution_count": 16,
     "metadata": {},
     "output_type": "execute_result"
    }
   ],
   "source": [
    "3 + 3"
   ]
  },
  {
   "cell_type": "markdown",
   "id": "eb0eb884",
   "metadata": {},
   "source": [
    "Float - Float é um inteiro com sua parte decimal. sendo que a parte decimal é um ponto flutuante"
   ]
  },
  {
   "cell_type": "code",
   "execution_count": 17,
   "id": "e4f12266",
   "metadata": {},
   "outputs": [
    {
     "data": {
      "text/plain": [
       "1.2000000000000002"
      ]
     },
     "execution_count": 17,
     "metadata": {},
     "output_type": "execute_result"
    }
   ],
   "source": [
    "0.4 * 3"
   ]
  },
  {
   "cell_type": "code",
   "execution_count": null,
   "id": "b1ee219b",
   "metadata": {},
   "outputs": [],
   "source": []
  }
 ],
 "metadata": {
  "kernelspec": {
   "display_name": "Python 3 (ipykernel)",
   "language": "python",
   "name": "python3"
  },
  "language_info": {
   "codemirror_mode": {
    "name": "ipython",
    "version": 3
   },
   "file_extension": ".py",
   "mimetype": "text/x-python",
   "name": "python",
   "nbconvert_exporter": "python",
   "pygments_lexer": "ipython3",
   "version": "3.9.7"
  }
 },
 "nbformat": 4,
 "nbformat_minor": 5
}
