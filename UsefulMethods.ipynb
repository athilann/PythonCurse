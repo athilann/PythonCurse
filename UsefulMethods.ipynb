{
 "cells": [
  {
   "cell_type": "markdown",
   "metadata": {},
   "source": [
    "Methods para listas"
   ]
  },
  {
   "cell_type": "code",
   "execution_count": 2,
   "metadata": {},
   "outputs": [
    {
     "name": "stdout",
     "output_type": "stream",
     "text": [
      "Number 0\n",
      "Number 1\n",
      "Number 2\n",
      "Number 3\n",
      "Number 4\n",
      "Number 5\n",
      "Number 6\n",
      "Number 7\n",
      "Number 8\n",
      "Number 9\n",
      "Number 10\n",
      "Number 11\n",
      "Number 12\n",
      "Number 13\n",
      "Number 14\n",
      "Number 15\n",
      "Number 16\n",
      "Number 17\n",
      "Number 18\n",
      "Number 19\n"
     ]
    }
   ],
   "source": [
    "# criando listas com range\n",
    "\n",
    "for number in list(range(0, 20)):\n",
    "    print(f\"Number {number}\")\n"
   ]
  },
  {
   "cell_type": "code",
   "execution_count": 4,
   "metadata": {},
   "outputs": [
    {
     "name": "stdout",
     "output_type": "stream",
     "text": [
      "Number 5\n",
      "Number 6\n",
      "Number 7\n",
      "Number 8\n",
      "Number 9\n",
      "Number 10\n",
      "Number 11\n",
      "Number 12\n",
      "Number 13\n",
      "Number 14\n"
     ]
    }
   ],
   "source": [
    "for number in list(range(5, 15)):\n",
    "    print(f\"Number {number}\")"
   ]
  },
  {
   "cell_type": "code",
   "execution_count": 2,
   "metadata": {},
   "outputs": [
    {
     "name": "stdout",
     "output_type": "stream",
     "text": [
      "Number 0\n",
      "Number 2\n",
      "Number 4\n",
      "Number 6\n",
      "Number 8\n",
      "Number 10\n",
      "Number 12\n",
      "Number 14\n",
      "Number 16\n",
      "Number 18\n",
      "Number 20\n",
      "\n",
      "Number 1\n",
      "Number 3\n",
      "Number 5\n",
      "Number 7\n",
      "Number 9\n",
      "Number 11\n",
      "Number 13\n",
      "Number 15\n",
      "Number 17\n",
      "Number 19\n"
     ]
    }
   ],
   "source": [
    "# Even and Odd number\n",
    "\n",
    "listSize = 21\n",
    "\n",
    "for number in list(range(0, listSize, 2)):\n",
    "    print(f\"Number {number}\")\n",
    "\n",
    "print(\"\")\n",
    "\n",
    "for number in list(range(1, listSize, 2)):\n",
    "    print(f\"Number {number}\")\n"
   ]
  },
  {
   "cell_type": "code",
   "execution_count": null,
   "metadata": {},
   "outputs": [],
   "source": []
  }
 ],
 "metadata": {
  "interpreter": {
   "hash": "5f62cb713fcec095159322e28299f79b57b3b278d5cc267586a50bd280825d23"
  },
  "kernelspec": {
   "display_name": "Python 3.9.7 ('base')",
   "language": "python",
   "name": "python3"
  },
  "language_info": {
   "codemirror_mode": {
    "name": "ipython",
    "version": 3
   },
   "file_extension": ".py",
   "mimetype": "text/x-python",
   "name": "python",
   "nbconvert_exporter": "python",
   "pygments_lexer": "ipython3",
   "version": "3.9.7"
  },
  "orig_nbformat": 4
 },
 "nbformat": 4,
 "nbformat_minor": 2
}
