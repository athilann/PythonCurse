{
 "cells": [
  {
   "cell_type": "markdown",
   "id": "db9ab6d3",
   "metadata": {},
   "source": [
    "Dictionary - Sao listas identificadas por uma chave e nao por um indice"
   ]
  },
  {
   "cell_type": "code",
   "execution_count": 1,
   "id": "fff28865",
   "metadata": {},
   "outputs": [],
   "source": [
    "#definindo um dicionario\n",
    "\n",
    "my_dictionary = {\"key\":\"value\"}"
   ]
  },
  {
   "cell_type": "code",
   "execution_count": 2,
   "id": "3c1a5d74",
   "metadata": {},
   "outputs": [
    {
     "data": {
      "text/plain": [
       "'value'"
      ]
     },
     "execution_count": 2,
     "metadata": {},
     "output_type": "execute_result"
    }
   ],
   "source": [
    "#pegando o valor pela chave\n",
    "\n",
    "my_dictionary[\"key\"]"
   ]
  },
  {
   "cell_type": "code",
   "execution_count": 3,
   "id": "2b60748b",
   "metadata": {},
   "outputs": [],
   "source": [
    "my_test_dictionary = {\"run\":100,\"swim\":200}"
   ]
  },
  {
   "cell_type": "code",
   "execution_count": 4,
   "id": "97640089",
   "metadata": {},
   "outputs": [
    {
     "data": {
      "text/plain": [
       "100"
      ]
     },
     "execution_count": 4,
     "metadata": {},
     "output_type": "execute_result"
    }
   ],
   "source": [
    "my_test_dictionary[\"run\"]"
   ]
  },
  {
   "cell_type": "code",
   "execution_count": 5,
   "id": "d68d4135",
   "metadata": {},
   "outputs": [
    {
     "data": {
      "text/plain": [
       "200"
      ]
     },
     "execution_count": 5,
     "metadata": {},
     "output_type": "execute_result"
    }
   ],
   "source": [
    "my_test_dictionary[\"swim\"]"
   ]
  },
  {
   "cell_type": "code",
   "execution_count": 6,
   "id": "f647cd0a",
   "metadata": {},
   "outputs": [
    {
     "ename": "KeyError",
     "evalue": "'noFound'",
     "output_type": "error",
     "traceback": [
      "\u001b[1;31m---------------------------------------------------------------------------\u001b[0m",
      "\u001b[1;31mKeyError\u001b[0m                                  Traceback (most recent call last)",
      "\u001b[1;32m~\\AppData\\Local\\Temp\\1/ipykernel_37360/3843846244.py\u001b[0m in \u001b[0;36m<module>\u001b[1;34m\u001b[0m\n\u001b[1;32m----> 1\u001b[1;33m \u001b[0mmy_test_dictionary\u001b[0m\u001b[1;33m[\u001b[0m\u001b[1;34m\"noFound\"\u001b[0m\u001b[1;33m]\u001b[0m\u001b[1;33m\u001b[0m\u001b[1;33m\u001b[0m\u001b[0m\n\u001b[0m",
      "\u001b[1;31mKeyError\u001b[0m: 'noFound'"
     ]
    }
   ],
   "source": [
    "#Chave nao existe esta presente no dicionario\n",
    "\n",
    "my_test_dictionary[\"noFound\"]"
   ]
  },
  {
   "cell_type": "code",
   "execution_count": 7,
   "id": "cd55811d",
   "metadata": {},
   "outputs": [],
   "source": [
    "#Dicionarios suportam mixed types nos elementos\n",
    "\n",
    "my_dictionary_2  = {\"key1\":1, \"key2\":2 ,\"key3\":\"apple\"}"
   ]
  },
  {
   "cell_type": "code",
   "execution_count": 8,
   "id": "498e5663",
   "metadata": {},
   "outputs": [
    {
     "data": {
      "text/plain": [
       "1"
      ]
     },
     "execution_count": 8,
     "metadata": {},
     "output_type": "execute_result"
    }
   ],
   "source": [
    "my_dictionary_2[\"key1\"]"
   ]
  },
  {
   "cell_type": "code",
   "execution_count": 10,
   "id": "bdc45baa",
   "metadata": {},
   "outputs": [
    {
     "data": {
      "text/plain": [
       "'apple'"
      ]
     },
     "execution_count": 10,
     "metadata": {},
     "output_type": "execute_result"
    }
   ],
   "source": [
    "my_dictionary_2[\"key3\"]"
   ]
  },
  {
   "cell_type": "code",
   "execution_count": 11,
   "id": "33048646",
   "metadata": {},
   "outputs": [],
   "source": [
    "#Dicionarios suportam mixed types nas chaves\n",
    "\n",
    "my_dictionary_3  = {\"key1\":10, 20:30}"
   ]
  },
  {
   "cell_type": "code",
   "execution_count": 12,
   "id": "ca4d2a67",
   "metadata": {},
   "outputs": [
    {
     "data": {
      "text/plain": [
       "10"
      ]
     },
     "execution_count": 12,
     "metadata": {},
     "output_type": "execute_result"
    }
   ],
   "source": [
    "my_dictionary_3[\"key1\"]"
   ]
  },
  {
   "cell_type": "code",
   "execution_count": 13,
   "id": "e6d03a1c",
   "metadata": {},
   "outputs": [
    {
     "data": {
      "text/plain": [
       "30"
      ]
     },
     "execution_count": 13,
     "metadata": {},
     "output_type": "execute_result"
    }
   ],
   "source": [
    "my_dictionary_3[20]"
   ]
  },
  {
   "cell_type": "code",
   "execution_count": 15,
   "id": "0e2de981",
   "metadata": {},
   "outputs": [
    {
     "data": {
      "text/plain": [
       "{'key1': 100, 'key2': [10, 250, 30], 'key3': {'a': 5}}"
      ]
     },
     "execution_count": 15,
     "metadata": {},
     "output_type": "execute_result"
    }
   ],
   "source": [
    "#Dicionarios suportam outros dicionarios em seus elementos\n",
    "\n",
    "my_dictionary_4  = {\"key1\":100, \"key2\":[10,250,30] ,\"key3\":{\"a\":5}}\n",
    "my_dictionary_4"
   ]
  },
  {
   "cell_type": "code",
   "execution_count": 17,
   "id": "1cce3463",
   "metadata": {},
   "outputs": [
    {
     "data": {
      "text/plain": [
       "dict_keys(['key1', 'key2', 'key3'])"
      ]
     },
     "execution_count": 17,
     "metadata": {},
     "output_type": "execute_result"
    }
   ],
   "source": [
    "#Recuperando as chaves do dicionario\n",
    "\n",
    "my_dictionary_4.keys()"
   ]
  },
  {
   "cell_type": "code",
   "execution_count": 18,
   "id": "8a590228",
   "metadata": {},
   "outputs": [
    {
     "data": {
      "text/plain": [
       "dict_values([100, [10, 250, 30], {'a': 5}])"
      ]
     },
     "execution_count": 18,
     "metadata": {},
     "output_type": "execute_result"
    }
   ],
   "source": [
    "#Recuperando os valores do dicionario\n",
    "\n",
    "my_dictionary_4.values()"
   ]
  },
  {
   "cell_type": "code",
   "execution_count": 19,
   "id": "6f27178d",
   "metadata": {},
   "outputs": [
    {
     "data": {
      "text/plain": [
       "5"
      ]
     },
     "execution_count": 19,
     "metadata": {},
     "output_type": "execute_result"
    }
   ],
   "source": [
    "#Buscando o valor dentro do outro dicionario\n",
    "\n",
    "my_dictionary_4[\"key3\"][\"a\"]"
   ]
  },
  {
   "cell_type": "code",
   "execution_count": 20,
   "id": "688fab7d",
   "metadata": {},
   "outputs": [
    {
     "data": {
      "text/plain": [
       "{'k1': 1, 'k2': 2}"
      ]
     },
     "execution_count": 20,
     "metadata": {},
     "output_type": "execute_result"
    }
   ],
   "source": [
    "#Diconarios sao mutaveis como as listas\n",
    "\n",
    "my_dictionary_5  = {\"k1\":1, \"k2\":2 }\n",
    "my_dictionary_5"
   ]
  },
  {
   "cell_type": "code",
   "execution_count": 22,
   "id": "802a4a13",
   "metadata": {},
   "outputs": [
    {
     "data": {
      "text/plain": [
       "{'k1': 3, 'k2': 2}"
      ]
     },
     "execution_count": 22,
     "metadata": {},
     "output_type": "execute_result"
    }
   ],
   "source": [
    "my_dictionary_5[\"k1\"] = 3\n",
    "my_dictionary_5"
   ]
  },
  {
   "cell_type": "code",
   "execution_count": null,
   "id": "abf06a6a",
   "metadata": {},
   "outputs": [],
   "source": []
  }
 ],
 "metadata": {
  "kernelspec": {
   "display_name": "Python 3 (ipykernel)",
   "language": "python",
   "name": "python3"
  },
  "language_info": {
   "codemirror_mode": {
    "name": "ipython",
    "version": 3
   },
   "file_extension": ".py",
   "mimetype": "text/x-python",
   "name": "python",
   "nbconvert_exporter": "python",
   "pygments_lexer": "ipython3",
   "version": "3.9.7"
  }
 },
 "nbformat": 4,
 "nbformat_minor": 5
}
