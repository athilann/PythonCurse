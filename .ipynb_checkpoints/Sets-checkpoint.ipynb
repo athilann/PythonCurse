{
 "cells": [
  {
   "cell_type": "markdown",
   "id": "4287968d",
   "metadata": {},
   "source": [
    "Sets - sao como listas e dicionarios, porem os elementos dentro precisam ser unicos "
   ]
  },
  {
   "cell_type": "code",
   "execution_count": 2,
   "id": "60c6457d",
   "metadata": {},
   "outputs": [
    {
     "data": {
      "text/plain": [
       "[1, 2, 3, 1]"
      ]
     },
     "execution_count": 2,
     "metadata": {},
     "output_type": "execute_result"
    }
   ],
   "source": [
    "my_list = [1,2,3,1]\n",
    "my_list"
   ]
  },
  {
   "cell_type": "code",
   "execution_count": 3,
   "id": "80fbf890",
   "metadata": {},
   "outputs": [
    {
     "data": {
      "text/plain": [
       "{1, 2, 3}"
      ]
     },
     "execution_count": 3,
     "metadata": {},
     "output_type": "execute_result"
    }
   ],
   "source": [
    "#convertendo a my_list para um set\n",
    "\n",
    "my_set = set(my_list)\n",
    "my_set"
   ]
  },
  {
   "cell_type": "code",
   "execution_count": 4,
   "id": "c4933dad",
   "metadata": {},
   "outputs": [
    {
     "data": {
      "text/plain": [
       "{1, 2, 3}"
      ]
     },
     "execution_count": 4,
     "metadata": {},
     "output_type": "execute_result"
    }
   ],
   "source": [
    "#criando um novo set\n",
    "\n",
    "my_set_2 ={1,2,3,1}\n",
    "my_set_2"
   ]
  },
  {
   "cell_type": "code",
   "execution_count": 5,
   "id": "f6d85568",
   "metadata": {},
   "outputs": [
    {
     "data": {
      "text/plain": [
       "set"
      ]
     },
     "execution_count": 5,
     "metadata": {},
     "output_type": "execute_result"
    }
   ],
   "source": [
    "type(my_set_2)"
   ]
  },
  {
   "cell_type": "code",
   "execution_count": 6,
   "id": "f4dd2370",
   "metadata": {},
   "outputs": [
    {
     "data": {
      "text/plain": [
       "{'a', 'b'}"
      ]
     },
     "execution_count": 6,
     "metadata": {},
     "output_type": "execute_result"
    }
   ],
   "source": [
    "#set funcionam para string tambem\n",
    "\n",
    "my_set_3 ={\"a\",\"b\",\"a\"}\n",
    "my_set_3"
   ]
  },
  {
   "cell_type": "code",
   "execution_count": null,
   "id": "935624cb",
   "metadata": {},
   "outputs": [],
   "source": []
  }
 ],
 "metadata": {
  "kernelspec": {
   "display_name": "Python 3 (ipykernel)",
   "language": "python",
   "name": "python3"
  },
  "language_info": {
   "codemirror_mode": {
    "name": "ipython",
    "version": 3
   },
   "file_extension": ".py",
   "mimetype": "text/x-python",
   "name": "python",
   "nbconvert_exporter": "python",
   "pygments_lexer": "ipython3",
   "version": "3.9.7"
  }
 },
 "nbformat": 4,
 "nbformat_minor": 5
}
