{
 "cells": [
  {
   "cell_type": "markdown",
   "id": "d77d085a",
   "metadata": {},
   "source": [
    "Testando Strings"
   ]
  },
  {
   "cell_type": "code",
   "execution_count": 1,
   "id": "aae9f6f5",
   "metadata": {},
   "outputs": [
    {
     "name": "stdout",
     "output_type": "stream",
     "text": [
      "true\n"
     ]
    }
   ],
   "source": [
    "my_string =  \"Hello World\"\n",
    "\n",
    "if my_string == \"hello World\":\n",
    "    print(\"true\")\n",
    "\n",
    "if \"Hello\" in my_string:\n",
    "    print(\"true\")\n",
    "else:\n",
    "    print(\"false\")"
   ]
  },
  {
   "cell_type": "markdown",
   "id": "3f27cffc",
   "metadata": {},
   "source": [
    "Testando listas"
   ]
  },
  {
   "cell_type": "code",
   "execution_count": 2,
   "id": "0545ca20",
   "metadata": {},
   "outputs": [
    {
     "name": "stdout",
     "output_type": "stream",
     "text": [
      "true\n"
     ]
    }
   ],
   "source": [
    "my_list = [1,2,3,4,5,6]\n",
    "\n",
    "if 2 in my_list:\n",
    "    print(\"true\")\n",
    "else:\n",
    "    print(\"false\")"
   ]
  },
  {
   "cell_type": "markdown",
   "id": "90fbc76f",
   "metadata": {},
   "source": [
    "Testando dicionarios"
   ]
  },
  {
   "cell_type": "code",
   "execution_count": 3,
   "id": "f6d23c85",
   "metadata": {},
   "outputs": [
    {
     "name": "stdout",
     "output_type": "stream",
     "text": [
      "false\n",
      "true\n"
     ]
    }
   ],
   "source": [
    "my_dict = {\"k1\":100,\"k2\":200, \"k3\":300}\n",
    "\n",
    "if 100 in my_dict.keys():\n",
    "    print(\"true\")\n",
    "else:\n",
    "    print(\"false\")\n",
    "\n",
    "if 100 in my_dict.values():\n",
    "    print(\"true\")\n",
    "else:\n",
    "    print(\"false\")\n"
   ]
  },
  {
   "cell_type": "code",
   "execution_count": null,
   "id": "d0e6728c",
   "metadata": {},
   "outputs": [],
   "source": []
  }
 ],
 "metadata": {
  "kernelspec": {
   "display_name": "Python 3 (ipykernel)",
   "language": "python",
   "name": "python3"
  },
  "language_info": {
   "codemirror_mode": {
    "name": "ipython",
    "version": 3
   },
   "file_extension": ".py",
   "mimetype": "text/x-python",
   "name": "python",
   "nbconvert_exporter": "python",
   "pygments_lexer": "ipython3",
   "version": "3.9.7"
  }
 },
 "nbformat": 4,
 "nbformat_minor": 5
}
