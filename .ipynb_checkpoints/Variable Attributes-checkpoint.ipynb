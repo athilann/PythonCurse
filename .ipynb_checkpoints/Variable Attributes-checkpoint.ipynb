{
 "cells": [
  {
   "cell_type": "markdown",
   "id": "97012d16",
   "metadata": {},
   "source": [
    "String Methods"
   ]
  },
  {
   "cell_type": "code",
   "execution_count": 2,
   "id": "e9648dcf",
   "metadata": {},
   "outputs": [],
   "source": [
    "my_name = \"áthila\""
   ]
  },
  {
   "cell_type": "code",
   "execution_count": 3,
   "id": "cbbb03d3",
   "metadata": {},
   "outputs": [
    {
     "data": {
      "text/plain": [
       "'áthila'"
      ]
     },
     "execution_count": 3,
     "metadata": {},
     "output_type": "execute_result"
    }
   ],
   "source": [
    "my_name"
   ]
  },
  {
   "cell_type": "code",
   "execution_count": 5,
   "id": "c5e0d531",
   "metadata": {},
   "outputs": [
    {
     "data": {
      "text/plain": [
       "'Áthila'"
      ]
     },
     "execution_count": 5,
     "metadata": {},
     "output_type": "execute_result"
    }
   ],
   "source": [
    "my_name.capitalize()"
   ]
  },
  {
   "cell_type": "code",
   "execution_count": 7,
   "id": "2e2effbf",
   "metadata": {},
   "outputs": [
    {
     "data": {
      "text/plain": [
       "'áthila'"
      ]
     },
     "execution_count": 7,
     "metadata": {},
     "output_type": "execute_result"
    }
   ],
   "source": [
    "my_name"
   ]
  },
  {
   "cell_type": "code",
   "execution_count": 8,
   "id": "da238ef7",
   "metadata": {},
   "outputs": [],
   "source": [
    "my_name = my_name.capitalize()"
   ]
  },
  {
   "cell_type": "code",
   "execution_count": 9,
   "id": "85cba43a",
   "metadata": {},
   "outputs": [
    {
     "data": {
      "text/plain": [
       "'Áthila'"
      ]
     },
     "execution_count": 9,
     "metadata": {},
     "output_type": "execute_result"
    }
   ],
   "source": [
    "my_name"
   ]
  },
  {
   "cell_type": "code",
   "execution_count": 10,
   "id": "bc961ec4",
   "metadata": {},
   "outputs": [
    {
     "data": {
      "text/plain": [
       "'Áthila Naniny Ninow'"
      ]
     },
     "execution_count": 10,
     "metadata": {},
     "output_type": "execute_result"
    }
   ],
   "source": [
    "my_name = \"Áthila Naniny Ninow\"\n",
    "my_name"
   ]
  },
  {
   "cell_type": "code",
   "execution_count": 12,
   "id": "0b908660",
   "metadata": {},
   "outputs": [
    {
     "data": {
      "text/plain": [
       "['Áthila', 'Naniny', 'Ninow']"
      ]
     },
     "execution_count": 12,
     "metadata": {},
     "output_type": "execute_result"
    }
   ],
   "source": [
    "my_name.split()"
   ]
  },
  {
   "cell_type": "code",
   "execution_count": 15,
   "id": "4a7e0b91",
   "metadata": {},
   "outputs": [
    {
     "data": {
      "text/plain": [
       "'ÁTHILA NANINY NINOW'"
      ]
     },
     "execution_count": 15,
     "metadata": {},
     "output_type": "execute_result"
    }
   ],
   "source": [
    "my_name.upper()"
   ]
  },
  {
   "cell_type": "code",
   "execution_count": 20,
   "id": "c7756a16",
   "metadata": {},
   "outputs": [
    {
     "data": {
      "text/plain": [
       "'áthila áthila áthila áthila áthila áthila áthila áthila áthila áthila áthila áthila áthila áthila áthila áthila áthila áthila áthila áthila áthila áthila áthila áthila áthila áthila áthila áthila áthila áthila áthila áthila áthila áthila áthila áthila áthila áthila áthila áthila áthila áthila áthila áthila áthila áthila áthila áthila áthila áthila áthila áthila áthila áthila áthila áthila áthila áthila áthila áthila áthila áthila áthila áthila áthila áthila áthila áthila áthila áthila áthila áthila áthila áthila áthila áthila áthila áthila áthila áthila áthila áthila áthila áthila áthila áthila áthila áthila áthila áthila áthila áthila áthila áthila áthila áthila áthila áthila áthila áthila '"
      ]
     },
     "execution_count": 20,
     "metadata": {},
     "output_type": "execute_result"
    }
   ],
   "source": [
    "#string podem ser multiplicadas por inteiros mas nao por floats.\n",
    "\n",
    "\"áthila \" * 10 * 10"
   ]
  },
  {
   "cell_type": "code",
   "execution_count": 21,
   "id": "9db59077",
   "metadata": {},
   "outputs": [
    {
     "data": {
      "text/plain": [
       "'Áthila  Ninow'"
      ]
     },
     "execution_count": 21,
     "metadata": {},
     "output_type": "execute_result"
    }
   ],
   "source": [
    "\"Áthila \" + \" \" + \"Ninow\""
   ]
  },
  {
   "cell_type": "code",
   "execution_count": 13,
   "id": "a0f47568",
   "metadata": {},
   "outputs": [],
   "source": []
  }
 ],
 "metadata": {
  "kernelspec": {
   "display_name": "Python 3 (ipykernel)",
   "language": "python",
   "name": "python3"
  },
  "language_info": {
   "codemirror_mode": {
    "name": "ipython",
    "version": 3
   },
   "file_extension": ".py",
   "mimetype": "text/x-python",
   "name": "python",
   "nbconvert_exporter": "python",
   "pygments_lexer": "ipython3",
   "version": "3.9.7"
  }
 },
 "nbformat": 4,
 "nbformat_minor": 5
}
