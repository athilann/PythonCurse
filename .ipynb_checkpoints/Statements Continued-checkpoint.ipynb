{
 "cells": [
  {
   "cell_type": "code",
   "execution_count": 2,
   "id": "bf540ca0",
   "metadata": {},
   "outputs": [
    {
     "name": "stdout",
     "output_type": "stream",
     "text": [
      "Super-Hero: norris\n",
      "Chuqui Norries nao gosta de ser considerado amador\n"
     ]
    }
   ],
   "source": [
    "my_superhero = input(\"Super-Hero: \")\n",
    "\n",
    "if my_superhero.lower() == \"batman\":\n",
    "    print(\"Robin vc eh um menino ainda!!\")\n",
    "elif my_superhero.lower() == \"hulk\":\n",
    "    print(\"So podia ser parmera manooo!!\")\n",
    "elif my_superhero.lower() == \"norris\":\n",
    "    print(\"Chuqui Norries nao gosta de ser considerado amador\")\n",
    "else:\n",
    "    print(\"Nao consideramos novatos na lista\")\n",
    "    \n"
   ]
  },
  {
   "cell_type": "code",
   "execution_count": null,
   "id": "b1f80add",
   "metadata": {},
   "outputs": [],
   "source": []
  }
 ],
 "metadata": {
  "kernelspec": {
   "display_name": "Python 3 (ipykernel)",
   "language": "python",
   "name": "python3"
  },
  "language_info": {
   "codemirror_mode": {
    "name": "ipython",
    "version": 3
   },
   "file_extension": ".py",
   "mimetype": "text/x-python",
   "name": "python",
   "nbconvert_exporter": "python",
   "pygments_lexer": "ipython3",
   "version": "3.9.7"
  }
 },
 "nbformat": 4,
 "nbformat_minor": 5
}
