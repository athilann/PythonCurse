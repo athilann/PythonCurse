{
 "cells": [
  {
   "cell_type": "markdown",
   "id": "8f06953b",
   "metadata": {},
   "source": [
    "Comando de escolha IF"
   ]
  },
  {
   "cell_type": "code",
   "execution_count": 2,
   "id": "9be08e60",
   "metadata": {},
   "outputs": [
    {
     "name": "stdout",
     "output_type": "stream",
     "text": [
      "true\n",
      "nice\n"
     ]
    }
   ],
   "source": [
    "#para adicionar um coding block ele eh determinado pela identacao 4 espacos ou um tab\n",
    "\n",
    "if 3 > 2:\n",
    "    print(\"true\")\n",
    "    print(\"nice\")"
   ]
  },
  {
   "cell_type": "code",
   "execution_count": 17,
   "id": "2153b572",
   "metadata": {},
   "outputs": [
    {
     "name": "stdout",
     "output_type": "stream",
     "text": [
      "x is greater\n",
      "y is smaller\n"
     ]
    }
   ],
   "source": [
    "x = 5\n",
    "y = 4\n",
    "\n",
    "if x > y:\n",
    "    print(\"x is greater\")\n",
    "    \n",
    "if x < y:\n",
    "    print(\"y is greater\")\n",
    "\n",
    "if x < y:\n",
    "    print(\"x is smaller\")\n",
    "elif x == y:\n",
    "    print(\"x is y\")\n",
    "else:\n",
    "    print(\"y is smaller\")"
   ]
  },
  {
   "cell_type": "code",
   "execution_count": null,
   "id": "db1895b5",
   "metadata": {},
   "outputs": [],
   "source": []
  },
  {
   "cell_type": "code",
   "execution_count": null,
   "id": "00bd1fe1",
   "metadata": {},
   "outputs": [],
   "source": []
  }
 ],
 "metadata": {
  "kernelspec": {
   "display_name": "Python 3 (ipykernel)",
   "language": "python",
   "name": "python3"
  },
  "language_info": {
   "codemirror_mode": {
    "name": "ipython",
    "version": 3
   },
   "file_extension": ".py",
   "mimetype": "text/x-python",
   "name": "python",
   "nbconvert_exporter": "python",
   "pygments_lexer": "ipython3",
   "version": "3.9.7"
  }
 },
 "nbformat": 4,
 "nbformat_minor": 5
}
